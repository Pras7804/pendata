{
  "nbformat": 4,
  "nbformat_minor": 0,
  "metadata": {
    "colab": {
      "provenance": []
    },
    "kernelspec": {
      "name": "python3",
      "display_name": "Python 3"
    },
    "language_info": {
      "name": "python"
    }
  },
  "cells": [
    {
      "cell_type": "markdown",
      "source": [
        "# **Tipe Data**"
      ],
      "metadata": {
        "id": "WSh9mI9SUSqi"
      }
    },
    {
      "cell_type": "markdown",
      "source": [
        "## **Macam-macam Tipe Data dalam Data Understanding**"
      ],
      "metadata": {
        "id": "Q5EWkAfMUb8V"
      }
    },
    {
      "cell_type": "markdown",
      "source": [
        "### **1. Atribut Kualitatif**"
      ],
      "metadata": {
        "id": "QtTdZiE1UlYB"
      }
    },
    {
      "cell_type": "markdown",
      "source": [
        "#### **- Nominal (Kategorikal)**\n",
        "Atribut nominal hanya digunakan untuk memberi label atau kategori pada suatu objek tanpa memiliki urutan atau tingkatan tertentu. Data ini tidak memiliki makna numerik dan tidak dapat dilakukan operasi matematika seperti penjumlahan atau pengurangan.\n",
        "Contoh:\n",
        "\n",
        "- Warna rambut: Hitam, Coklat, Biru\n",
        "- Merek kendaraan: Yamaha, Honda, Suzuki\n",
        "\n",
        "#### **- Ordinal**\n",
        "Atribut ordinal memiliki kategori dengan urutan atau tingkatan tertentu, tetapi jarak antar kategori tidak bisa diukur secara pasti.\n",
        "Contoh:\n",
        "- Tingkat pendidikan: SD, SMP, SMA, S1, S2, S3\n",
        "- Tingkat kepuasan pelanggan: Sangat Puas, Puas, Netral, Tidak Puas, Sangat Tidak Puas\n",
        "- Risiko investasi: Rendah, Sedang, Tinggi\n",
        "\n",
        "#### **- Biner**\n",
        "Atribut biner hanya memiliki dua kemungkinan nilai, seperti 0 dan 1, atau Ya dan Tidak.\n",
        "Contoh:\n",
        "- Status pernikahan: Menikah (1), Belum Menikah (0)\n",
        "- Jenis Kelamin: Laki-laki, Perempuan"
      ],
      "metadata": {
        "id": "nZE49BSIUzA8"
      }
    },
    {
      "cell_type": "markdown",
      "source": [
        "### **2. Atribut Kuantitatif**"
      ],
      "metadata": {
        "id": "mrhYeVY8Uqq0"
      }
    },
    {
      "cell_type": "markdown",
      "source": [
        "#### **- Diskrit**\n",
        "Atribut diskrit hanya bisa memiliki nilai dalam jumlah terbatas, biasanya dalam bentuk bilangan bulat yang diperoleh dari hasil perhitungan (counting).\n",
        "Contoh:\n",
        "\n",
        "- Jumlah anak dalam keluarga: 1, 2, 3, …\n",
        "\n",
        "- Jumlah kendaraan di parkiran: 3, 7, 15\n",
        "\n",
        "- Jumlah siswa dalam kelas: 27, 31, 45\n",
        "\n",
        "\n",
        "#### **- Kontinu**\n",
        "Atribut kontinu memiliki nilai yang dapat berupa pecahan atau desimal karena diperoleh dari hasil pengukuran (measurement).\n",
        "Contoh:\n",
        "- Tinggi badan: 155.5 cm, 160.6 cm\n",
        "- Berat badan: 61.1 kg, 70.8 kg\n",
        "- Suhu udara: 22.3°C, 30.2°C"
      ],
      "metadata": {
        "id": "j9COm3v6WKOD"
      }
    }
  ]
}